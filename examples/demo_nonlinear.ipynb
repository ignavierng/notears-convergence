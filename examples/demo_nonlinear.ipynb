{
 "cells": [
  {
   "cell_type": "markdown",
   "id": "0db8b351-f0a9-4b81-98d5-c319a76dc25a",
   "metadata": {},
   "source": [
    "# Demo of ALM and QPM for NOTEARS-MLP\n",
    "- Code modified from https://github.com/xunzheng/notears/blob/ba61337bd0e5410c04cc708be57affc191a8c424/notears/nonlinear.py#L213"
   ]
  },
  {
   "cell_type": "code",
   "execution_count": 1,
   "id": "ccd7d4e2-8d6d-4eeb-96e9-535b45f48bad",
   "metadata": {},
   "outputs": [],
   "source": [
    "import sys\n",
    "sys.path.append('..')    # To import notears from parent directory\n",
    "\n",
    "import numpy as np\n",
    "import torch\n",
    "\n",
    "from notears.nonlinear import NotearsMLP, notears_nonlinear\n",
    "from notears import utils\n",
    "\n",
    "# Setup\n",
    "torch.set_default_dtype(torch.double)\n",
    "np.set_printoptions(precision=3)"
   ]
  },
  {
   "cell_type": "markdown",
   "id": "0b8b04c0-8164-4021-8a03-3339ff24a456",
   "metadata": {},
   "source": [
    "## Generate data"
   ]
  },
  {
   "cell_type": "code",
   "execution_count": 2,
   "id": "8a110c25-056c-4856-bf63-6c8b48149978",
   "metadata": {},
   "outputs": [],
   "source": [
    "utils.set_random_seed(123)\n",
    "\n",
    "n, d, s0, graph_type, sem_type = 200, 5, 9, 'ER', 'mim'\n",
    "B_true = utils.simulate_dag(d, s0, graph_type)\n",
    "X = utils.simulate_nonlinear_sem(B_true, n, sem_type)"
   ]
  },
  {
   "cell_type": "markdown",
   "id": "6f777c74-ff33-4305-83b8-ab61878ba067",
   "metadata": {},
   "source": [
    "## Constrained optimization with quadratic penalty method"
   ]
  },
  {
   "cell_type": "code",
   "execution_count": 3,
   "id": "887dceea-70ba-49a9-a0bc-815f55fe527f",
   "metadata": {},
   "outputs": [
    {
     "name": "stdout",
     "output_type": "stream",
     "text": [
      "{'fdr': 0.1, 'tpr': 1.0, 'fpr': 1.0, 'shd': 1, 'nnz': 10}\n",
      "CPU times: user 57.2 s, sys: 40.5 s, total: 1min 37s\n",
      "Wall time: 24.7 s\n"
     ]
    }
   ],
   "source": [
    "%%time\n",
    "model = NotearsMLP(dims=[d, 10, 1], bias=True)\n",
    "W_est = notears_nonlinear(model, X, lambda1=0.01, lambda2=0.01, opt_type='qpm')\n",
    "assert utils.is_dag(W_est)\n",
    "acc = utils.count_accuracy(B_true, W_est != 0)\n",
    "print(acc)"
   ]
  },
  {
   "cell_type": "markdown",
   "id": "c80c3d2a-2528-4d0b-ae91-d7d31c249e8e",
   "metadata": {
    "tags": []
   },
   "source": [
    "## Constrained optimization with augmented Lagrangian method"
   ]
  },
  {
   "cell_type": "code",
   "execution_count": 4,
   "id": "7e06bb6b-c31a-42fb-8d5d-10c0ec646470",
   "metadata": {},
   "outputs": [
    {
     "name": "stdout",
     "output_type": "stream",
     "text": [
      "{'fdr': 0.1, 'tpr': 1.0, 'fpr': 1.0, 'shd': 1, 'nnz': 10}\n",
      "CPU times: user 1min 19s, sys: 1min 1s, total: 2min 21s\n",
      "Wall time: 35.7 s\n"
     ]
    }
   ],
   "source": [
    "%%time\n",
    "model = NotearsMLP(dims=[d, 10, 1], bias=True)\n",
    "W_est = notears_nonlinear(model, X, lambda1=0.01, lambda2=0.01, opt_type='alm')\n",
    "assert utils.is_dag(W_est)\n",
    "acc = utils.count_accuracy(B_true, W_est != 0)\n",
    "print(acc)"
   ]
  }
 ],
 "metadata": {
  "kernelspec": {
   "display_name": "py37:Python",
   "language": "python",
   "name": "conda-env-py37-py"
  },
  "language_info": {
   "codemirror_mode": {
    "name": "ipython",
    "version": 3
   },
   "file_extension": ".py",
   "mimetype": "text/x-python",
   "name": "python",
   "nbconvert_exporter": "python",
   "pygments_lexer": "ipython3",
   "version": "3.7.12"
  }
 },
 "nbformat": 4,
 "nbformat_minor": 5
}
