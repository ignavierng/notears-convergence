{
 "cells": [
  {
   "cell_type": "markdown",
   "id": "0db8b351-f0a9-4b81-98d5-c319a76dc25a",
   "metadata": {},
   "source": [
    "# Demo of ALM and QPM for NOTEARS\n",
    "- Code modified from https://github.com/xunzheng/notears/blob/ba61337bd0e5410c04cc708be57affc191a8c424/notears/linear.py#L89"
   ]
  },
  {
   "cell_type": "code",
   "execution_count": 1,
   "id": "ccd7d4e2-8d6d-4eeb-96e9-535b45f48bad",
   "metadata": {},
   "outputs": [],
   "source": [
    "import numpy as np\n",
    "\n",
    "from notears.linear import notears_linear\n",
    "from notears import utils"
   ]
  },
  {
   "cell_type": "markdown",
   "id": "0b8b04c0-8164-4021-8a03-3339ff24a456",
   "metadata": {},
   "source": [
    "## Generate data"
   ]
  },
  {
   "cell_type": "code",
   "execution_count": 2,
   "id": "6cfbcddc-9935-4d2f-bf22-4f098a66d6df",
   "metadata": {},
   "outputs": [],
   "source": [
    "utils.set_random_seed(1)\n",
    "n, d, s0, graph_type, sem_type = 100, 20, 20, 'ER', 'gauss'\n",
    "B_true = utils.simulate_dag(d, s0, graph_type)\n",
    "W_true = utils.simulate_parameter(B_true)\n",
    "X = utils.simulate_linear_sem(W_true, n, sem_type)"
   ]
  },
  {
   "cell_type": "markdown",
   "id": "6f777c74-ff33-4305-83b8-ab61878ba067",
   "metadata": {},
   "source": [
    "## Constrained optimization with quadratic penalty method"
   ]
  },
  {
   "cell_type": "code",
   "execution_count": 3,
   "id": "887dceea-70ba-49a9-a0bc-815f55fe527f",
   "metadata": {},
   "outputs": [
    {
     "name": "stdout",
     "output_type": "stream",
     "text": [
      "{'fdr': 0.0, 'tpr': 0.95, 'fpr': 0.0, 'shd': 1, 'nnz': 19}\n",
      "CPU times: user 16.9 s, sys: 12.9 s, total: 29.8 s\n",
      "Wall time: 7.61 s\n"
     ]
    }
   ],
   "source": [
    "%%time\n",
    "W_est = notears_linear(X, lambda1=0.1, loss_type='l2', opt_type='qpm')\n",
    "assert utils.is_dag(W_est)\n",
    "acc = utils.count_accuracy(B_true, W_est != 0)\n",
    "print(acc)"
   ]
  },
  {
   "cell_type": "markdown",
   "id": "c80c3d2a-2528-4d0b-ae91-d7d31c249e8e",
   "metadata": {
    "tags": []
   },
   "source": [
    "## Constrained optimization with augmented Lagrangian method"
   ]
  },
  {
   "cell_type": "code",
   "execution_count": 4,
   "id": "7e06bb6b-c31a-42fb-8d5d-10c0ec646470",
   "metadata": {},
   "outputs": [
    {
     "name": "stdout",
     "output_type": "stream",
     "text": [
      "{'fdr': 0.0, 'tpr': 0.95, 'fpr': 0.0, 'shd': 1, 'nnz': 19}\n",
      "CPU times: user 27.4 s, sys: 20.9 s, total: 48.3 s\n",
      "Wall time: 12.3 s\n"
     ]
    }
   ],
   "source": [
    "%%time\n",
    "W_est = notears_linear(X, lambda1=0.1, loss_type='l2', opt_type='alm')\n",
    "assert utils.is_dag(W_est)\n",
    "acc = utils.count_accuracy(B_true, W_est != 0)\n",
    "print(acc)"
   ]
  }
 ],
 "metadata": {
  "kernelspec": {
   "display_name": "py37:Python",
   "language": "python",
   "name": "conda-env-py37-py"
  },
  "language_info": {
   "codemirror_mode": {
    "name": "ipython",
    "version": 3
   },
   "file_extension": ".py",
   "mimetype": "text/x-python",
   "name": "python",
   "nbconvert_exporter": "python",
   "pygments_lexer": "ipython3",
   "version": "3.7.12"
  }
 },
 "nbformat": 4,
 "nbformat_minor": 5
}
